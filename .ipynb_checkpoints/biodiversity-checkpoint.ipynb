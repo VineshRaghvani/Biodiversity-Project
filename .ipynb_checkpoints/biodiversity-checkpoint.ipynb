{
 "cells": [
  {
   "cell_type": "markdown",
   "metadata": {},
   "source": [
    "# Biodiversity Project\n",
    "\n",
    "## Introduction\n",
    "\n",
    "In this project we will be interpreting data from the National Parks Services about endangered species in different parks.\n",
    "\n",
    "The data files being used `observations.csv` and `species.csv` has been provided by [Codecademy.com](https://www.codecademy.com).\n",
    "\n",
    "Note: The data for this project is *inspired* by real data, but is mostly fictional."
   ]
  },
  {
   "cell_type": "markdown",
   "metadata": {},
   "source": [
    "## Scoping \n",
    "\n",
    "When starting a new project, it's a good idea to define its scope. Four parts have been designed to guide the project's development and progress. The first component is the project goals, which outline the project's high-level aims and purposes. The next component is the data; fortunately, data is already supplied in this project, but it must be determined whether the project goals can be satisfied with the data available. Third, the analysis must be well planned, including the methodologies and questions that will be used to achieve the project's objectives. Finally, evaluation will assist us in drawing conclusions and results from our study.\n",
    "\n",
    "### Project Goals\n",
    "\n",
    "In this project, the perspective will be that of a biodiversity analyst for the National Parks Service. The National Parks Service seeks to secure the survival of at-risk species and sustain the amount of biodiversity in its parks. As a result, the primary goals of an analyst will be to understand the features of the species and their conservation status, as well as the species' link to national parks. Some questions are posed:\n",
    "\n",
    "- What is the distribution of `conservation_status` for animals?\n",
    "- Are certain types of species more likely to be endangered?\n",
    "- Are the differences between species and their conservation status significant?\n",
    "- Which species were spotted the most at each park?\n",
    "\n",
    "### Data\n",
    "\n",
    "This project included two data sets with the package. The first `csv` file contains information about each species, while the second has observations of species and park locations. This data will be used to examine the project's goals. \n",
    "\n",
    "### Analysis\n",
    "\n",
    "In this part, descriptive statistics and data visualization techniques will be used to better comprehend the data. Statistical inference will also be applied to determine if the observed values are statistically significant. Some of the major metrics that will be calculated are: \n",
    "\n",
    "1. Counts\n",
    "1. Distributions\n",
    "1. Relationship between Species\n",
    "1. `conservation_status` of Species\n",
    "1. Observations of Species in Parks.\n",
    "\n",
    "### Evaluation\n",
    "\n",
    "Finally, it is a good idea to read over the objectives again and see if the analysis output matches to the questions that were originally established to be addressed (in the goals section). This part will also reflect on what was discovered during the process and whether any of the questions could not be addressed. This might also include limits or if the analysis could have been conducted using alternate approaches."
   ]
  },
  {
   "cell_type": "markdown",
   "metadata": {},
   "source": [
    "## Importing Python Modules\n",
    "\n",
    "We will first begin with importing the required modules that will be used in this project:"
   ]
  },
  {
   "cell_type": "code",
   "execution_count": 3,
   "metadata": {},
   "outputs": [],
   "source": [
    "import pandas as pd\n",
    "import numpy as np\n",
    "\n",
    "from matplotlib import pyplot as plt\n",
    "import seaborn as sns\n",
    "\n",
    "%matplotlib inline"
   ]
  },
  {
   "cell_type": "markdown",
   "metadata": {},
   "source": [
    "## Loading the Data\n",
    "\n",
    "The next steps for us would be to load the provided data for us to continue analysing further. We will glimpse adn check their contents using the `.head()` method."
   ]
  },
  {
   "cell_type": "markdown",
   "metadata": {},
   "source": [
    "#### Species\n",
    "\n",
    "`species_info.csv` contains information about the different species in the National Parks. The dataset consists of 4 columns namely:\n",
    "\n",
    "- **category** - class of animal\n",
    "- **scientific_name** - the scientifc name of each species\n",
    "- **common_name** - the common names of each species\n",
    "- **conservation_status** - each species' current conservation status"
   ]
  },
  {
   "cell_type": "code",
   "execution_count": 4,
   "metadata": {},
   "outputs": [
    {
     "data": {
      "text/html": [
       "<div>\n",
       "<style scoped>\n",
       "    .dataframe tbody tr th:only-of-type {\n",
       "        vertical-align: middle;\n",
       "    }\n",
       "\n",
       "    .dataframe tbody tr th {\n",
       "        vertical-align: top;\n",
       "    }\n",
       "\n",
       "    .dataframe thead th {\n",
       "        text-align: right;\n",
       "    }\n",
       "</style>\n",
       "<table border=\"1\" class=\"dataframe\">\n",
       "  <thead>\n",
       "    <tr style=\"text-align: right;\">\n",
       "      <th></th>\n",
       "      <th>category</th>\n",
       "      <th>scientific_name</th>\n",
       "      <th>common_names</th>\n",
       "      <th>conservation_status</th>\n",
       "    </tr>\n",
       "  </thead>\n",
       "  <tbody>\n",
       "    <tr>\n",
       "      <th>0</th>\n",
       "      <td>Mammal</td>\n",
       "      <td>Clethrionomys gapperi gapperi</td>\n",
       "      <td>Gapper's Red-Backed Vole</td>\n",
       "      <td>NaN</td>\n",
       "    </tr>\n",
       "    <tr>\n",
       "      <th>1</th>\n",
       "      <td>Mammal</td>\n",
       "      <td>Bos bison</td>\n",
       "      <td>American Bison, Bison</td>\n",
       "      <td>NaN</td>\n",
       "    </tr>\n",
       "    <tr>\n",
       "      <th>2</th>\n",
       "      <td>Mammal</td>\n",
       "      <td>Bos taurus</td>\n",
       "      <td>Aurochs, Aurochs, Domestic Cattle (Feral), Dom...</td>\n",
       "      <td>NaN</td>\n",
       "    </tr>\n",
       "    <tr>\n",
       "      <th>3</th>\n",
       "      <td>Mammal</td>\n",
       "      <td>Ovis aries</td>\n",
       "      <td>Domestic Sheep, Mouflon, Red Sheep, Sheep (Feral)</td>\n",
       "      <td>NaN</td>\n",
       "    </tr>\n",
       "    <tr>\n",
       "      <th>4</th>\n",
       "      <td>Mammal</td>\n",
       "      <td>Cervus elaphus</td>\n",
       "      <td>Wapiti Or Elk</td>\n",
       "      <td>NaN</td>\n",
       "    </tr>\n",
       "  </tbody>\n",
       "</table>\n",
       "</div>"
      ],
      "text/plain": [
       "  category                scientific_name  \\\n",
       "0   Mammal  Clethrionomys gapperi gapperi   \n",
       "1   Mammal                      Bos bison   \n",
       "2   Mammal                     Bos taurus   \n",
       "3   Mammal                     Ovis aries   \n",
       "4   Mammal                 Cervus elaphus   \n",
       "\n",
       "                                        common_names conservation_status  \n",
       "0                           Gapper's Red-Backed Vole                 NaN  \n",
       "1                              American Bison, Bison                 NaN  \n",
       "2  Aurochs, Aurochs, Domestic Cattle (Feral), Dom...                 NaN  \n",
       "3  Domestic Sheep, Mouflon, Red Sheep, Sheep (Feral)                 NaN  \n",
       "4                                      Wapiti Or Elk                 NaN  "
      ]
     },
     "execution_count": 4,
     "metadata": {},
     "output_type": "execute_result"
    }
   ],
   "source": [
    "species = pd.read_csv('species_info.csv', encoding='utf-8')\n",
    "species.head()"
   ]
  },
  {
   "cell_type": "markdown",
   "metadata": {},
   "source": [
    "#### Observations\n",
    "\n",
    "`observations.csv` contains information about the different species throughout the national parks over the past 7 days from the recorded sightings. The dataset consists of 3 columns namely:\n",
    "\n",
    "- **scientific_name** - the scientific name of each species\n",
    "- **park_name** - park where species were found\n",
    "- **observations** - the number of times each species was observed at park"
   ]
  },
  {
   "cell_type": "code",
   "execution_count": 5,
   "metadata": {},
   "outputs": [
    {
     "data": {
      "text/html": [
       "<div>\n",
       "<style scoped>\n",
       "    .dataframe tbody tr th:only-of-type {\n",
       "        vertical-align: middle;\n",
       "    }\n",
       "\n",
       "    .dataframe tbody tr th {\n",
       "        vertical-align: top;\n",
       "    }\n",
       "\n",
       "    .dataframe thead th {\n",
       "        text-align: right;\n",
       "    }\n",
       "</style>\n",
       "<table border=\"1\" class=\"dataframe\">\n",
       "  <thead>\n",
       "    <tr style=\"text-align: right;\">\n",
       "      <th></th>\n",
       "      <th>scientific_name</th>\n",
       "      <th>park_name</th>\n",
       "      <th>observations</th>\n",
       "    </tr>\n",
       "  </thead>\n",
       "  <tbody>\n",
       "    <tr>\n",
       "      <th>0</th>\n",
       "      <td>Vicia benghalensis</td>\n",
       "      <td>Great Smoky Mountains National Park</td>\n",
       "      <td>68</td>\n",
       "    </tr>\n",
       "    <tr>\n",
       "      <th>1</th>\n",
       "      <td>Neovison vison</td>\n",
       "      <td>Great Smoky Mountains National Park</td>\n",
       "      <td>77</td>\n",
       "    </tr>\n",
       "    <tr>\n",
       "      <th>2</th>\n",
       "      <td>Prunus subcordata</td>\n",
       "      <td>Yosemite National Park</td>\n",
       "      <td>138</td>\n",
       "    </tr>\n",
       "    <tr>\n",
       "      <th>3</th>\n",
       "      <td>Abutilon theophrasti</td>\n",
       "      <td>Bryce National Park</td>\n",
       "      <td>84</td>\n",
       "    </tr>\n",
       "    <tr>\n",
       "      <th>4</th>\n",
       "      <td>Githopsis specularioides</td>\n",
       "      <td>Great Smoky Mountains National Park</td>\n",
       "      <td>85</td>\n",
       "    </tr>\n",
       "  </tbody>\n",
       "</table>\n",
       "</div>"
      ],
      "text/plain": [
       "            scientific_name                            park_name  observations\n",
       "0        Vicia benghalensis  Great Smoky Mountains National Park            68\n",
       "1            Neovison vison  Great Smoky Mountains National Park            77\n",
       "2         Prunus subcordata               Yosemite National Park           138\n",
       "3      Abutilon theophrasti                  Bryce National Park            84\n",
       "4  Githopsis specularioides  Great Smoky Mountains National Park            85"
      ]
     },
     "execution_count": 5,
     "metadata": {},
     "output_type": "execute_result"
    }
   ],
   "source": [
    "observations = pd.read_csv('observations.csv', encoding='utf-8')\n",
    "observations.head()"
   ]
  },
  {
   "cell_type": "markdown",
   "metadata": {},
   "source": [
    "#### Data Characteristics\n",
    "\n",
    "Next we will check the sizes of both of the files `species_info.csv` and `observations.csv`"
   ]
  },
  {
   "cell_type": "code",
   "execution_count": 6,
   "metadata": {},
   "outputs": [],
   "source": [
    "species_shape = species.shape\n",
    "observations_shape = observations.shape"
   ]
  },
  {
   "cell_type": "code",
   "execution_count": 7,
   "metadata": {},
   "outputs": [
    {
     "name": "stdout",
     "output_type": "stream",
     "text": [
      "Species shape: (5824, 4)\n",
      "Observations shape: (23296, 3)\n"
     ]
    }
   ],
   "source": [
    "print(f\"Species shape: {species_shape}\")\n",
    "print(f\"Observations shape: {observations_shape}\")"
   ]
  },
  {
   "cell_type": "markdown",
   "metadata": {},
   "source": [
    "From above we can see that `species_info.csv` consists of 5,824 rows and 4 columns. \n",
    "\n",
    "`observations.csv` consists of 23,296 rows and 3 columns."
   ]
  },
  {
   "cell_type": "markdown",
   "metadata": {},
   "source": [
    "### Exploring the Data\n",
    "\n",
    "We will first be exploring the data of `species` in depth. We will start by getting the number of unique species available in the national parks."
   ]
  },
  {
   "cell_type": "code",
   "execution_count": 9,
   "metadata": {},
   "outputs": [
    {
     "name": "stdout",
     "output_type": "stream",
     "text": [
      "Number of Species: 5541\n"
     ]
    }
   ],
   "source": [
    "unique_sn = species.scientific_name.nunique()\n",
    "print(f\"Number of Species: {unique_sn}\")"
   ]
  },
  {
   "cell_type": "markdown",
   "metadata": {},
   "source": [
    "We used the `scientific_name` column from the data provided to find the value of 5,541 unique species above."
   ]
  },
  {
   "cell_type": "markdown",
   "metadata": {},
   "source": [
    "Next we find the total number of categories available and print out the names of the categories."
   ]
  },
  {
   "cell_type": "code",
   "execution_count": 10,
   "metadata": {},
   "outputs": [],
   "source": [
    "unique_category = species.category.nunique()\n",
    "category_names = species.category.unique()"
   ]
  },
  {
   "cell_type": "code",
   "execution_count": 11,
   "metadata": {},
   "outputs": [
    {
     "name": "stdout",
     "output_type": "stream",
     "text": [
      "Number of Categories: 7\n",
      "Categories: ['Mammal' 'Bird' 'Reptile' 'Amphibian' 'Fish' 'Vascular Plant'\n",
      " 'Nonvascular Plant']\n"
     ]
    }
   ],
   "source": [
    "print(f\"Number of Categories: {unique_category}\")\n",
    "print(f\"Categories: {category_names}\")"
   ]
  },
  {
   "cell_type": "markdown",
   "metadata": {},
   "source": [
    "We can now count how many times each `category` has been displayed in the data."
   ]
  },
  {
   "cell_type": "code",
   "execution_count": 12,
   "metadata": {},
   "outputs": [
    {
     "data": {
      "text/plain": [
       "category\n",
       "Amphibian              80\n",
       "Bird                  521\n",
       "Fish                  127\n",
       "Mammal                214\n",
       "Nonvascular Plant     333\n",
       "Reptile                79\n",
       "Vascular Plant       4470\n",
       "dtype: int64"
      ]
     },
     "execution_count": 12,
     "metadata": {},
     "output_type": "execute_result"
    }
   ],
   "source": [
    "species.groupby('category').size()"
   ]
  },
  {
   "cell_type": "markdown",
   "metadata": {},
   "source": [
    "From the data displayed above we can see that Vascular Plant has the most counts by far with a value of 4,470 whereas Reptiles has the fewest mentions with a count of 79."
   ]
  },
  {
   "cell_type": "markdown",
   "metadata": {},
   "source": [
    "Next we will explore the `conservation_status` column as by glimpsing above we can't exactly know which categories are available within that cloumn and their number of appaearances and so on."
   ]
  },
  {
   "cell_type": "code",
   "execution_count": 13,
   "metadata": {},
   "outputs": [],
   "source": [
    "statuses_number = species.conservation_status.nunique()\n",
    "statuses = species.conservation_status.unique()"
   ]
  },
  {
   "cell_type": "code",
   "execution_count": 14,
   "metadata": {},
   "outputs": [
    {
     "name": "stdout",
     "output_type": "stream",
     "text": [
      "Number of Conservation Statuses: 4\n",
      "Unique Conservation Statuses: [nan 'Species of Concern' 'Endangered' 'Threatened' 'In Recovery']\n"
     ]
    }
   ],
   "source": [
    "print(f\"Number of Conservation Statuses: {statuses_number}\")\n",
    "print(f\"Unique Conservation Statuses: {statuses}\")"
   ]
  },
  {
   "cell_type": "markdown",
   "metadata": {},
   "source": [
    "From the above we cans ee that the `conservation_status` consists of 4 categories and `nan` values as well."
   ]
  },
  {
   "cell_type": "markdown",
   "metadata": {},
   "source": [
    "We will now explore further in to the same column to get the exact number of each categories and analyze the findings."
   ]
  },
  {
   "cell_type": "code",
   "execution_count": 15,
   "metadata": {},
   "outputs": [
    {
     "name": "stdout",
     "output_type": "stream",
     "text": [
      "NaN Values: 5633\n",
      "conservation_status\n",
      "Endangered             16\n",
      "In Recovery             4\n",
      "Species of Concern    161\n",
      "Threatened             10\n",
      "dtype: int64\n"
     ]
    }
   ],
   "source": [
    "print(f\"NaN Values: {species.conservation_status.isna().sum()}\")\n",
    "\n",
    "print(species.groupby('conservation_status').size())"
   ]
  },
  {
   "cell_type": "markdown",
   "metadata": {},
   "source": [
    "From the information gathered above we can see that there are 16 `Endangered` Species, 4 `In Recovery`, 161 `Species of Concern` and 10 `Threatened`. There are 5,633 NaN values as well, which suggests that there are 5,633 species without any concerns or it could also mean that the data is absent since they are not under any conservation status."
   ]
  },
  {
   "cell_type": "markdown",
   "metadata": {},
   "source": []
  },
  {
   "cell_type": "markdown",
   "metadata": {},
   "source": [
    "Now we will head over to the `observations` file to explore the data in depth. Firstly, we have to check the number of parks in the dataset and print them out."
   ]
  },
  {
   "cell_type": "code",
   "execution_count": 17,
   "metadata": {},
   "outputs": [],
   "source": [
    "park_number = observations.park_name.nunique()\n",
    "park_names = observations.park_name.unique()"
   ]
  },
  {
   "cell_type": "code",
   "execution_count": 18,
   "metadata": {},
   "outputs": [
    {
     "name": "stdout",
     "output_type": "stream",
     "text": [
      "Number of Parks: 4\n",
      "Unique Parks: ['Great Smoky Mountains National Park' 'Yosemite National Park'\n",
      " 'Bryce National Park' 'Yellowstone National Park']\n"
     ]
    }
   ],
   "source": [
    "print(f\"Number of Parks: {park_number}\")\n",
    "print(f\"Unique Parks: {park_names}\")"
   ]
  },
  {
   "cell_type": "markdown",
   "metadata": {},
   "source": [
    "From the data printed above, we can see that there are 4 parks in the dataset."
   ]
  },
  {
   "cell_type": "markdown",
   "metadata": {},
   "source": [
    "Now we will find the total number of observations that were logged in over the past 7 days."
   ]
  },
  {
   "cell_type": "code",
   "execution_count": 19,
   "metadata": {},
   "outputs": [
    {
     "name": "stdout",
     "output_type": "stream",
     "text": [
      "Number of Observations: 3314739\n"
     ]
    }
   ],
   "source": [
    "print(f\"Number of Observations: {observations.observations.sum()}\")"
   ]
  },
  {
   "cell_type": "markdown",
   "metadata": {},
   "source": [
    "## Analysis"
   ]
  },
  {
   "cell_type": "markdown",
   "metadata": {},
   "source": [
    "In this portion, we will analyze the data that we investigated in the previous section. To do this, we must first clean and refine our data. We may begin with the conservation status column, where we found many `NaN values` that we would now modify to `No Intervention`. The conservation status is divided into the following categories:"
   ]
  },
  {
   "cell_type": "markdown",
   "metadata": {},
   "source": [
    "- `Species of Concern`: declining or appear to be in need of conservation\n",
    "- `Threatened`: vulnerable to endangerment in the near future\n",
    "- `Endangered`: seriously at risk of extinction\n",
    "- `In Recovery`: formerly `Endangered`, but currently neither in danger of extinction throughout all or a significant portion of its range"
   ]
  },
  {
   "cell_type": "code",
   "execution_count": 20,
   "metadata": {},
   "outputs": [
    {
     "data": {
      "text/plain": [
       "conservation_status\n",
       "Endangered              16\n",
       "In Recovery              4\n",
       "No Intervention       5633\n",
       "Species of Concern     161\n",
       "Threatened              10\n",
       "dtype: int64"
      ]
     },
     "execution_count": 20,
     "metadata": {},
     "output_type": "execute_result"
    }
   ],
   "source": [
    "species.fillna('No Intervention', inplace=True)\n",
    "species.groupby('conservation_status').size()"
   ]
  },
  {
   "cell_type": "markdown",
   "metadata": {},
   "source": [
    "We then move on to examine the categories in the `conservation_status` column, except for the ones that do not need an intervention. Below we will display a table and chart to examine further."
   ]
  },
  {
   "cell_type": "code",
   "execution_count": 32,
   "metadata": {},
   "outputs": [
    {
     "data": {
      "text/html": [
       "<div>\n",
       "<style scoped>\n",
       "    .dataframe tbody tr th:only-of-type {\n",
       "        vertical-align: middle;\n",
       "    }\n",
       "\n",
       "    .dataframe tbody tr th {\n",
       "        vertical-align: top;\n",
       "    }\n",
       "\n",
       "    .dataframe thead th {\n",
       "        text-align: right;\n",
       "    }\n",
       "</style>\n",
       "<table border=\"1\" class=\"dataframe\">\n",
       "  <thead>\n",
       "    <tr style=\"text-align: right;\">\n",
       "      <th>category</th>\n",
       "      <th>Amphibian</th>\n",
       "      <th>Bird</th>\n",
       "      <th>Fish</th>\n",
       "      <th>Mammal</th>\n",
       "      <th>Nonvascular Plant</th>\n",
       "      <th>Reptile</th>\n",
       "      <th>Vascular Plant</th>\n",
       "    </tr>\n",
       "    <tr>\n",
       "      <th>conservation_status</th>\n",
       "      <th></th>\n",
       "      <th></th>\n",
       "      <th></th>\n",
       "      <th></th>\n",
       "      <th></th>\n",
       "      <th></th>\n",
       "      <th></th>\n",
       "    </tr>\n",
       "  </thead>\n",
       "  <tbody>\n",
       "    <tr>\n",
       "      <th>Endangered</th>\n",
       "      <td>1.0</td>\n",
       "      <td>4.0</td>\n",
       "      <td>3.0</td>\n",
       "      <td>7.0</td>\n",
       "      <td>NaN</td>\n",
       "      <td>NaN</td>\n",
       "      <td>1.0</td>\n",
       "    </tr>\n",
       "    <tr>\n",
       "      <th>In Recovery</th>\n",
       "      <td>NaN</td>\n",
       "      <td>3.0</td>\n",
       "      <td>NaN</td>\n",
       "      <td>1.0</td>\n",
       "      <td>NaN</td>\n",
       "      <td>NaN</td>\n",
       "      <td>NaN</td>\n",
       "    </tr>\n",
       "    <tr>\n",
       "      <th>Species of Concern</th>\n",
       "      <td>4.0</td>\n",
       "      <td>72.0</td>\n",
       "      <td>4.0</td>\n",
       "      <td>28.0</td>\n",
       "      <td>5.0</td>\n",
       "      <td>5.0</td>\n",
       "      <td>43.0</td>\n",
       "    </tr>\n",
       "    <tr>\n",
       "      <th>Threatened</th>\n",
       "      <td>2.0</td>\n",
       "      <td>NaN</td>\n",
       "      <td>4.0</td>\n",
       "      <td>2.0</td>\n",
       "      <td>NaN</td>\n",
       "      <td>NaN</td>\n",
       "      <td>2.0</td>\n",
       "    </tr>\n",
       "  </tbody>\n",
       "</table>\n",
       "</div>"
      ],
      "text/plain": [
       "category             Amphibian  Bird  Fish  Mammal  Nonvascular Plant  \\\n",
       "conservation_status                                                     \n",
       "Endangered                 1.0   4.0   3.0     7.0                NaN   \n",
       "In Recovery                NaN   3.0   NaN     1.0                NaN   \n",
       "Species of Concern         4.0  72.0   4.0    28.0                5.0   \n",
       "Threatened                 2.0   NaN   4.0     2.0                NaN   \n",
       "\n",
       "category             Reptile  Vascular Plant  \n",
       "conservation_status                           \n",
       "Endangered               NaN             1.0  \n",
       "In Recovery              NaN             NaN  \n",
       "Species of Concern       5.0            43.0  \n",
       "Threatened               NaN             2.0  "
      ]
     },
     "execution_count": 32,
     "metadata": {},
     "output_type": "execute_result"
    }
   ],
   "source": [
    "filtered_species_data = species[species.conservation_status != 'No Intervention']\n",
    "\n",
    "grouped_species_data = filtered_species_data.groupby(['conservation_status', 'category'])\n",
    "\n",
    "counted_species_data = grouped_species_data['scientific_name'].count()\n",
    "\n",
    "conservation_category = counted_species_data.unstack()\n",
    "\n",
    "conservation_category"
   ]
  },
  {
   "cell_type": "markdown",
   "metadata": {},
   "source": [
    "From the table above, we can see that there are 7 mammals and 4 birds among the `Endangered` status. In the `In Recovery` status we have 3 birds and 1 mammal, which might indicate that the birds are recovering faster than the mammals."
   ]
  },
  {
   "cell_type": "code",
   "execution_count": 30,
   "metadata": {},
   "outputs": [
    {
     "data": {
      "image/png": "[encoded data removed]",
      "text/plain": [
       "<Figure size 800x600 with 1 Axes>"
      ]
     },
     "metadata": {},
     "output_type": "display_data"
    }
   ],
   "source": [
    "graph = conservation_category.plot(kind = 'bar', figsize=(8,6))\n",
    "\n",
    "graph.set_xlabel('Conservation Status')\n",
    "graph.set_ylabel('Number of Species');"
   ]
  },
  {
   "cell_type": "markdown",
   "metadata": {},
   "source": [
    "#### Species in Conservation\n",
    "\n",
    "We can now move on to answer the next question of whether there are other certain type of species that are more prone to be `Endangered`. We therefore have to create a new column `is_protected` and include all the species except the ones with `No Intervention`."
   ]
  },
  {
   "cell_type": "code",
   "execution_count": 31,
   "metadata": {},
   "outputs": [],
   "source": [
    "species['is_protected'] = species.conservation_status != 'No Intervention'"
   ]
  },
  {
   "cell_type": "markdown",
   "metadata": {},
   "source": [
    "After creating the new column, we then have to group by `category` and the new column to show the detailed break down of individual species type and their statuses. "
   ]
  },
  {
   "cell_type": "code",
   "execution_count": 33,
   "metadata": {},
   "outputs": [
    {
     "data": {
      "text/html": [
       "<div>\n",
       "<style scoped>\n",
       "    .dataframe tbody tr th:only-of-type {\n",
       "        vertical-align: middle;\n",
       "    }\n",
       "\n",
       "    .dataframe tbody tr th {\n",
       "        vertical-align: top;\n",
       "    }\n",
       "\n",
       "    .dataframe thead th {\n",
       "        text-align: right;\n",
       "    }\n",
       "</style>\n",
       "<table border=\"1\" class=\"dataframe\">\n",
       "  <thead>\n",
       "    <tr style=\"text-align: right;\">\n",
       "      <th></th>\n",
       "      <th>category</th>\n",
       "      <th>not_protected</th>\n",
       "      <th>protected</th>\n",
       "    </tr>\n",
       "  </thead>\n",
       "  <tbody>\n",
       "    <tr>\n",
       "      <th>0</th>\n",
       "      <td>Amphibian</td>\n",
       "      <td>72</td>\n",
       "      <td>7</td>\n",
       "    </tr>\n",
       "    <tr>\n",
       "      <th>1</th>\n",
       "      <td>Bird</td>\n",
       "      <td>413</td>\n",
       "      <td>75</td>\n",
       "    </tr>\n",
       "    <tr>\n",
       "      <th>2</th>\n",
       "      <td>Fish</td>\n",
       "      <td>115</td>\n",
       "      <td>11</td>\n",
       "    </tr>\n",
       "    <tr>\n",
       "      <th>3</th>\n",
       "      <td>Mammal</td>\n",
       "      <td>146</td>\n",
       "      <td>30</td>\n",
       "    </tr>\n",
       "    <tr>\n",
       "      <th>4</th>\n",
       "      <td>Nonvascular Plant</td>\n",
       "      <td>328</td>\n",
       "      <td>5</td>\n",
       "    </tr>\n",
       "    <tr>\n",
       "      <th>5</th>\n",
       "      <td>Reptile</td>\n",
       "      <td>73</td>\n",
       "      <td>5</td>\n",
       "    </tr>\n",
       "    <tr>\n",
       "      <th>6</th>\n",
       "      <td>Vascular Plant</td>\n",
       "      <td>4216</td>\n",
       "      <td>46</td>\n",
       "    </tr>\n",
       "  </tbody>\n",
       "</table>\n",
       "</div>"
      ],
      "text/plain": [
       "            category  not_protected  protected\n",
       "0          Amphibian             72          7\n",
       "1               Bird            413         75\n",
       "2               Fish            115         11\n",
       "3             Mammal            146         30\n",
       "4  Nonvascular Plant            328          5\n",
       "5            Reptile             73          5\n",
       "6     Vascular Plant           4216         46"
      ]
     },
     "execution_count": 33,
     "metadata": {},
     "output_type": "execute_result"
    }
   ],
   "source": [
    "grouped_species = species.groupby(['category', 'is_protected'])\n",
    "\n",
    "unique_species_counts = grouped_species.scientific_name.nunique()\n",
    "\n",
    "reset_species_counts = unique_species_counts.reset_index()\n",
    "\n",
    "pivoted_species_counts = reset_species_counts.pivot(columns='is_protected', index='category', values='scientific_name')\n",
    "\n",
    "reset_pivoted_species_counts = pivoted_species_counts.reset_index()\n",
    "\n",
    "category_counts = reset_pivoted_species_counts.copy()\n",
    "\n",
    "category_counts.columns = ['category', 'not_protected', 'protected']\n",
    "\n",
    "category_counts"
   ]
  },
  {
   "cell_type": "markdown",
   "metadata": {},
   "source": [
    "Now we will add another column to the table above which will show us the protection percentage."
   ]
  },
  {
   "cell_type": "code",
   "execution_count": 34,
   "metadata": {},
   "outputs": [
    {
     "data": {
      "text/html": [
       "<div>\n",
       "<style scoped>\n",
       "    .dataframe tbody tr th:only-of-type {\n",
       "        vertical-align: middle;\n",
       "    }\n",
       "\n",
       "    .dataframe tbody tr th {\n",
       "        vertical-align: top;\n",
       "    }\n",
       "\n",
       "    .dataframe thead th {\n",
       "        text-align: right;\n",
       "    }\n",
       "</style>\n",
       "<table border=\"1\" class=\"dataframe\">\n",
       "  <thead>\n",
       "    <tr style=\"text-align: right;\">\n",
       "      <th></th>\n",
       "      <th>category</th>\n",
       "      <th>not_protected</th>\n",
       "      <th>protected</th>\n",
       "      <th>percent_protected</th>\n",
       "    </tr>\n",
       "  </thead>\n",
       "  <tbody>\n",
       "    <tr>\n",
       "      <th>0</th>\n",
       "      <td>Amphibian</td>\n",
       "      <td>72</td>\n",
       "      <td>7</td>\n",
       "      <td>8.860759</td>\n",
       "    </tr>\n",
       "    <tr>\n",
       "      <th>1</th>\n",
       "      <td>Bird</td>\n",
       "      <td>413</td>\n",
       "      <td>75</td>\n",
       "      <td>15.368852</td>\n",
       "    </tr>\n",
       "    <tr>\n",
       "      <th>2</th>\n",
       "      <td>Fish</td>\n",
       "      <td>115</td>\n",
       "      <td>11</td>\n",
       "      <td>8.730159</td>\n",
       "    </tr>\n",
       "    <tr>\n",
       "      <th>3</th>\n",
       "      <td>Mammal</td>\n",
       "      <td>146</td>\n",
       "      <td>30</td>\n",
       "      <td>17.045455</td>\n",
       "    </tr>\n",
       "    <tr>\n",
       "      <th>4</th>\n",
       "      <td>Nonvascular Plant</td>\n",
       "      <td>328</td>\n",
       "      <td>5</td>\n",
       "      <td>1.501502</td>\n",
       "    </tr>\n",
       "    <tr>\n",
       "      <th>5</th>\n",
       "      <td>Reptile</td>\n",
       "      <td>73</td>\n",
       "      <td>5</td>\n",
       "      <td>6.410256</td>\n",
       "    </tr>\n",
       "    <tr>\n",
       "      <th>6</th>\n",
       "      <td>Vascular Plant</td>\n",
       "      <td>4216</td>\n",
       "      <td>46</td>\n",
       "      <td>1.079305</td>\n",
       "    </tr>\n",
       "  </tbody>\n",
       "</table>\n",
       "</div>"
      ],
      "text/plain": [
       "            category  not_protected  protected  percent_protected\n",
       "0          Amphibian             72          7           8.860759\n",
       "1               Bird            413         75          15.368852\n",
       "2               Fish            115         11           8.730159\n",
       "3             Mammal            146         30          17.045455\n",
       "4  Nonvascular Plant            328          5           1.501502\n",
       "5            Reptile             73          5           6.410256\n",
       "6     Vascular Plant           4216         46           1.079305"
      ]
     },
     "execution_count": 34,
     "metadata": {},
     "output_type": "execute_result"
    }
   ],
   "source": [
    "total_species = category_counts.protected + category_counts.not_protected\n",
    "\n",
    "percentage_protected = (category_counts.protected / total_species) * 100\n",
    "\n",
    "category_counts['percent_protected'] = percentage_protected\n",
    "\n",
    "category_counts"
   ]
  },
  {
   "cell_type": "markdown",
   "metadata": {},
   "source": [
    "#### Test Statistic\n",
    "\n",
    "In this part of the project, we will find some statistics by using chi-squared tests. This is for us to see whether the different species have statistical significant differences in their conservation status. To begin, we first need a table looking like the one displayed below:\n",
    "\n",
    "||protected|not protected|\n",
    "|-|-|-|\n",
    "|Mammal|?|?|\n",
    "|Bird|?|?|\n",
    "\n",
    "We will name the first test as `contingency1` and need to fill in the correct values for mammals and birds."
   ]
  },
  {
   "cell_type": "code",
   "execution_count": 38,
   "metadata": {},
   "outputs": [
    {
     "data": {
      "text/plain": [
       "Chi2ContingencyResult(statistic=0.1617014831654557, pvalue=0.6875948096661336, dof=1, expected_freq=array([[ 27.8313253, 148.1686747],\n",
       "       [ 77.1686747, 410.8313253]]))"
      ]
     },
     "execution_count": 38,
     "metadata": {},
     "output_type": "execute_result"
    }
   ],
   "source": [
    "from scipy.stats import chi2_contingency\n",
    "\n",
    "contingency1 = [[30, 146], [75, 413]]\n",
    "\n",
    "chi2_contingency(contingency1)"
   ]
  },
  {
   "cell_type": "markdown",
   "metadata": {},
   "source": [
    "The test carried about above was between `Mammal` and `Bird`. We obtained a p-value of 0.69. The significance level for this test is 0.05. Therefore, we can see that 0.69 is greater than 0.05. Hence, in this case there doesn't seem to be any significant relationship between the two species."
   ]
  },
  {
   "cell_type": "markdown",
   "metadata": {},
   "source": [
    "Now we will compare between `Reptile` and `Mammal`. The format of the table is the same as the one displayed above with a slight difference displayed below:\n",
    "\n",
    "||protected|not protected|\n",
    "|-|-|-|\n",
    "|Mammal|?|?|\n",
    "|Reptile|?|?|\n",
    "\n",
    "We will name this test as `contingency2` and need to fill in the correct values for mammals and reptiles."
   ]
  },
  {
   "cell_type": "code",
   "execution_count": 39,
   "metadata": {},
   "outputs": [
    {
     "data": {
      "text/plain": [
       "Chi2ContingencyResult(statistic=4.289183096203645, pvalue=0.03835559022969898, dof=1, expected_freq=array([[ 24.2519685, 151.7480315],\n",
       "       [ 10.7480315,  67.2519685]]))"
      ]
     },
     "execution_count": 39,
     "metadata": {},
     "output_type": "execute_result"
    }
   ],
   "source": [
    "contingency2 = [[30, 146], [5, 73]]\n",
    "\n",
    "chi2_contingency(contingency2)"
   ]
  },
  {
   "cell_type": "markdown",
   "metadata": {},
   "source": [
    "From the second test carried about above, we get the p-value as 0.038 which is less than 0.05 of our significance level. This tells us that there is a statistical difference between reptile and mammal. It tells us that Mammals have statistically significant higher rate for protection needed than Reptiles do."
   ]
  }
 ],
 "metadata": {
  "kernelspec": {
   "display_name": "Python 3 (ipykernel)",
   "language": "python",
   "name": "python3"
  },
  "language_info": {
   "codemirror_mode": {
    "name": "ipython",
    "version": 3
   },
   "file_extension": ".py",
   "mimetype": "text/x-python",
   "name": "python",
   "nbconvert_exporter": "python",
   "pygments_lexer": "ipython3",
   "version": "3.11.5"
  }
 },
 "nbformat": 4,
 "nbformat_minor": 4
}
